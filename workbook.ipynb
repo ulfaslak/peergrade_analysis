{
 "cells": [
  {
   "cell_type": "markdown",
   "metadata": {
    "run_control": {
     "frozen": false,
     "read_only": false
    }
   },
   "source": [
    "# Outline"
   ]
  },
  {
   "cell_type": "markdown",
   "metadata": {},
   "source": [
    "** Evaluating quality of feedback**\n",
    "\n",
    "1. Modeling feedback bias\n",
    "    * Revenge patterns in evaluation of feedback quality\n",
    "    * Length of feedback vs. perceived quality <br><br>\n",
    "    \n",
    "2. Results\n",
    "    * Time spent on feedback vs. feedback quality\n",
    "    * Handin quality vs. feedback quality. Does bad handins get bad feedback?\n",
    "    * Handin ability vs. feedback ability. Does good students give good feedback?\n",
    "    * Evaluation criteria: Common characteristics of criteria that leads to good feedback."
   ]
  },
  {
   "cell_type": "markdown",
   "metadata": {},
   "source": [
    "# Modeling feedback bias"
   ]
  },
  {
   "cell_type": "markdown",
   "metadata": {},
   "source": [
    "### Imports"
   ]
  },
  {
   "cell_type": "code",
   "execution_count": 130,
   "metadata": {
    "ExecuteTime": {
     "end_time": "2016-12-14T18:00:22.237196",
     "start_time": "2016-12-14T18:00:22.228040"
    },
    "collapsed": false
   },
   "outputs": [
    {
     "name": "stdout",
     "output_type": "stream",
     "text": [
      "\n"
     ]
    }
   ],
   "source": [
    "%matplotlib inline\n",
    "import numpy as np\n",
    "import pymongo as pm\n",
    "from bson.objectid import ObjectId\n",
    "from collections import defaultdict, Counter\n",
    "import matplotlib.pylab as plt\n",
    "import matplotlib.patches as mpatches\n",
    "from matplotlib.collections import PatchCollection\n",
    "import seaborn as sns\n",
    "import pandas as pd\n",
    "from scipy.interpolate import interp1d\n",
    "from scipy import stats\n",
    "import dateutil.parser\n",
    "from langdetect import detect\n",
    "from afinn import Afinn"
   ]
  },
  {
   "cell_type": "markdown",
   "metadata": {},
   "source": [
    "### Settings"
   ]
  },
  {
   "cell_type": "code",
   "execution_count": 2,
   "metadata": {
    "ExecuteTime": {
     "end_time": "2016-12-14T16:39:23.076192",
     "start_time": "2016-12-14T16:39:23.072473"
    },
    "collapsed": true
   },
   "outputs": [],
   "source": [
    "from matplotlib import rcParams\n",
    "rcParams['font.family'] = 'sans-serif'\n",
    "rcParams['font.sans-serif'] = ['Bitstream Vera Sans']"
   ]
  },
  {
   "cell_type": "markdown",
   "metadata": {},
   "source": [
    "### Utility functions"
   ]
  },
  {
   "cell_type": "code",
   "execution_count": 3,
   "metadata": {
    "ExecuteTime": {
     "end_time": "2016-12-14T16:39:23.241688",
     "start_time": "2016-12-14T16:39:23.238581"
    },
    "collapsed": true
   },
   "outputs": [],
   "source": [
    "def get_connection():\n",
    "    con = pm.Connection()\n",
    "    db = con.heroku_rnwkcq9r\n",
    "    return db"
   ]
  },
  {
   "cell_type": "markdown",
   "metadata": {},
   "source": [
    "## Revenge patterns in evaluation of feedback quality"
   ]
  },
  {
   "cell_type": "markdown",
   "metadata": {},
   "source": [
    "Is negative feedback rated as less constructive? Is positive feedback rated as more constructive?"
   ]
  },
  {
   "cell_type": "code",
   "execution_count": 4,
   "metadata": {
    "ExecuteTime": {
     "end_time": "2016-12-14T16:39:26.121198",
     "start_time": "2016-12-14T16:39:26.116478"
    },
    "collapsed": false
   },
   "outputs": [],
   "source": [
    "# Connect to database\n",
    "db = get_connection()"
   ]
  },
  {
   "cell_type": "code",
   "execution_count": 140,
   "metadata": {
    "ExecuteTime": {
     "end_time": "2016-12-14T18:02:55.664007",
     "start_time": "2016-12-14T18:02:24.536988"
    },
    "collapsed": false
   },
   "outputs": [
    {
     "name": "stdout",
     "output_type": "stream",
     "text": [
      "0% 10% 20% 30% 40% 50% 60%"
     ]
    },
    {
     "ename": "KeyboardInterrupt",
     "evalue": "",
     "output_type": "error",
     "traceback": [
      "\u001b[0;31m---------------------------------------------------------------------------\u001b[0m",
      "\u001b[0;31mKeyboardInterrupt\u001b[0m                         Traceback (most recent call last)",
      "\u001b[0;32m<ipython-input-140-79b5b475e095>\u001b[0m in \u001b[0;36m<module>\u001b[0;34m()\u001b[0m\n\u001b[1;32m     33\u001b[0m \u001b[0;34m\u001b[0m\u001b[0m\n\u001b[1;32m     34\u001b[0m     \u001b[0;31m# Question pertaining to answer in loop\u001b[0m\u001b[0;34m\u001b[0m\u001b[0;34m\u001b[0m\u001b[0m\n\u001b[0;32m---> 35\u001b[0;31m     \u001b[0mquestion\u001b[0m \u001b[0;34m=\u001b[0m \u001b[0mlist\u001b[0m\u001b[0;34m(\u001b[0m\u001b[0mdb\u001b[0m\u001b[0;34m[\u001b[0m\u001b[0;34m'question'\u001b[0m\u001b[0;34m]\u001b[0m\u001b[0;34m.\u001b[0m\u001b[0mfind\u001b[0m\u001b[0;34m(\u001b[0m\u001b[0;34m{\u001b[0m\u001b[0;34m\"_id\"\u001b[0m\u001b[0;34m:\u001b[0m \u001b[0mt\u001b[0m\u001b[0;34m[\u001b[0m\u001b[0;34m\"question\"\u001b[0m\u001b[0;34m]\u001b[0m\u001b[0;34m}\u001b[0m\u001b[0;34m)\u001b[0m\u001b[0;34m)\u001b[0m\u001b[0;34m[\u001b[0m\u001b[0;36m0\u001b[0m\u001b[0;34m]\u001b[0m\u001b[0;34m\u001b[0m\u001b[0m\n\u001b[0m\u001b[1;32m     36\u001b[0m \u001b[0;34m\u001b[0m\u001b[0m\n\u001b[1;32m     37\u001b[0m     \u001b[0;31m# Not all questions have numerical answers. Skip the ones that doesn't\u001b[0m\u001b[0;34m\u001b[0m\u001b[0;34m\u001b[0m\u001b[0m\n",
      "\u001b[0;32m/Library/Python/2.7/site-packages/pymongo/cursor.pyc\u001b[0m in \u001b[0;36mnext\u001b[0;34m(self)\u001b[0m\n\u001b[1;32m   1056\u001b[0m             \u001b[0;32mraise\u001b[0m \u001b[0mStopIteration\u001b[0m\u001b[0;34m\u001b[0m\u001b[0m\n\u001b[1;32m   1057\u001b[0m         \u001b[0mdb\u001b[0m \u001b[0;34m=\u001b[0m \u001b[0mself\u001b[0m\u001b[0;34m.\u001b[0m\u001b[0m__collection\u001b[0m\u001b[0;34m.\u001b[0m\u001b[0mdatabase\u001b[0m\u001b[0;34m\u001b[0m\u001b[0m\n\u001b[0;32m-> 1058\u001b[0;31m         \u001b[0;32mif\u001b[0m \u001b[0mlen\u001b[0m\u001b[0;34m(\u001b[0m\u001b[0mself\u001b[0m\u001b[0;34m.\u001b[0m\u001b[0m__data\u001b[0m\u001b[0;34m)\u001b[0m \u001b[0;32mor\u001b[0m \u001b[0mself\u001b[0m\u001b[0;34m.\u001b[0m\u001b[0m_refresh\u001b[0m\u001b[0;34m(\u001b[0m\u001b[0;34m)\u001b[0m\u001b[0;34m:\u001b[0m\u001b[0;34m\u001b[0m\u001b[0m\n\u001b[0m\u001b[1;32m   1059\u001b[0m             \u001b[0;32mif\u001b[0m \u001b[0mself\u001b[0m\u001b[0;34m.\u001b[0m\u001b[0m__manipulate\u001b[0m\u001b[0;34m:\u001b[0m\u001b[0;34m\u001b[0m\u001b[0m\n\u001b[1;32m   1060\u001b[0m                 return db._fix_outgoing(self.__data.popleft(),\n",
      "\u001b[0;32m/Library/Python/2.7/site-packages/pymongo/cursor.pyc\u001b[0m in \u001b[0;36m_refresh\u001b[0;34m(self)\u001b[0m\n\u001b[1;32m   1000\u001b[0m                               \u001b[0mself\u001b[0m\u001b[0;34m.\u001b[0m\u001b[0m__skip\u001b[0m\u001b[0;34m,\u001b[0m \u001b[0mntoreturn\u001b[0m\u001b[0;34m,\u001b[0m\u001b[0;34m\u001b[0m\u001b[0m\n\u001b[1;32m   1001\u001b[0m                               \u001b[0mself\u001b[0m\u001b[0;34m.\u001b[0m\u001b[0m__query_spec\u001b[0m\u001b[0;34m(\u001b[0m\u001b[0;34m)\u001b[0m\u001b[0;34m,\u001b[0m \u001b[0mself\u001b[0m\u001b[0;34m.\u001b[0m\u001b[0m__fields\u001b[0m\u001b[0;34m,\u001b[0m\u001b[0;34m\u001b[0m\u001b[0m\n\u001b[0;32m-> 1002\u001b[0;31m                               self.__uuid_subtype))\n\u001b[0m\u001b[1;32m   1003\u001b[0m             \u001b[0;32mif\u001b[0m \u001b[0;32mnot\u001b[0m \u001b[0mself\u001b[0m\u001b[0;34m.\u001b[0m\u001b[0m__id\u001b[0m\u001b[0;34m:\u001b[0m\u001b[0;34m\u001b[0m\u001b[0m\n\u001b[1;32m   1004\u001b[0m                 \u001b[0mself\u001b[0m\u001b[0;34m.\u001b[0m\u001b[0m__killed\u001b[0m \u001b[0;34m=\u001b[0m \u001b[0mTrue\u001b[0m\u001b[0;34m\u001b[0m\u001b[0m\n",
      "\u001b[0;32m/Library/Python/2.7/site-packages/pymongo/cursor.pyc\u001b[0m in \u001b[0;36m__send_message\u001b[0;34m(self, message)\u001b[0m\n\u001b[1;32m    913\u001b[0m \u001b[0;34m\u001b[0m\u001b[0m\n\u001b[1;32m    914\u001b[0m             \u001b[0;32mtry\u001b[0m\u001b[0;34m:\u001b[0m\u001b[0;34m\u001b[0m\u001b[0m\n\u001b[0;32m--> 915\u001b[0;31m                 \u001b[0mres\u001b[0m \u001b[0;34m=\u001b[0m \u001b[0mclient\u001b[0m\u001b[0;34m.\u001b[0m\u001b[0m_send_message_with_response\u001b[0m\u001b[0;34m(\u001b[0m\u001b[0mmessage\u001b[0m\u001b[0;34m,\u001b[0m \u001b[0;34m**\u001b[0m\u001b[0mkwargs\u001b[0m\u001b[0;34m)\u001b[0m\u001b[0;34m\u001b[0m\u001b[0m\n\u001b[0m\u001b[1;32m    916\u001b[0m                 \u001b[0mself\u001b[0m\u001b[0;34m.\u001b[0m\u001b[0m__connection_id\u001b[0m\u001b[0;34m,\u001b[0m \u001b[0;34m(\u001b[0m\u001b[0mresponse\u001b[0m\u001b[0;34m,\u001b[0m \u001b[0msock\u001b[0m\u001b[0;34m,\u001b[0m \u001b[0mpool\u001b[0m\u001b[0;34m)\u001b[0m \u001b[0;34m=\u001b[0m \u001b[0mres\u001b[0m\u001b[0;34m\u001b[0m\u001b[0m\n\u001b[1;32m    917\u001b[0m                 \u001b[0;32mif\u001b[0m \u001b[0mself\u001b[0m\u001b[0;34m.\u001b[0m\u001b[0m__exhaust\u001b[0m\u001b[0;34m:\u001b[0m\u001b[0;34m\u001b[0m\u001b[0m\n",
      "\u001b[0;32m/Library/Python/2.7/site-packages/pymongo/mongo_client.pyc\u001b[0m in \u001b[0;36m_send_message_with_response\u001b[0;34m(self, message, _must_use_master, **kwargs)\u001b[0m\n\u001b[1;32m   1196\u001b[0m                 \u001b[0msock_info\u001b[0m\u001b[0;34m.\u001b[0m\u001b[0msock\u001b[0m\u001b[0;34m.\u001b[0m\u001b[0msettimeout\u001b[0m\u001b[0;34m(\u001b[0m\u001b[0mkwargs\u001b[0m\u001b[0;34m[\u001b[0m\u001b[0;34m\"network_timeout\"\u001b[0m\u001b[0;34m]\u001b[0m\u001b[0;34m)\u001b[0m\u001b[0;34m\u001b[0m\u001b[0m\n\u001b[1;32m   1197\u001b[0m \u001b[0;34m\u001b[0m\u001b[0m\n\u001b[0;32m-> 1198\u001b[0;31m             \u001b[0mresponse\u001b[0m \u001b[0;34m=\u001b[0m \u001b[0mself\u001b[0m\u001b[0;34m.\u001b[0m\u001b[0m__send_and_receive\u001b[0m\u001b[0;34m(\u001b[0m\u001b[0mmessage\u001b[0m\u001b[0;34m,\u001b[0m \u001b[0msock_info\u001b[0m\u001b[0;34m)\u001b[0m\u001b[0;34m\u001b[0m\u001b[0m\n\u001b[0m\u001b[1;32m   1199\u001b[0m \u001b[0;34m\u001b[0m\u001b[0m\n\u001b[1;32m   1200\u001b[0m             \u001b[0;32mif\u001b[0m \u001b[0;32mnot\u001b[0m \u001b[0mexhaust\u001b[0m\u001b[0;34m:\u001b[0m\u001b[0;34m\u001b[0m\u001b[0m\n",
      "\u001b[0;32m/Library/Python/2.7/site-packages/pymongo/mongo_client.pyc\u001b[0m in \u001b[0;36m__send_and_receive\u001b[0;34m(self, message, sock_info)\u001b[0m\n\u001b[1;32m   1172\u001b[0m         \u001b[0;34m(\u001b[0m\u001b[0mrequest_id\u001b[0m\u001b[0;34m,\u001b[0m \u001b[0mdata\u001b[0m\u001b[0;34m)\u001b[0m \u001b[0;34m=\u001b[0m \u001b[0mself\u001b[0m\u001b[0;34m.\u001b[0m\u001b[0m__check_bson_size\u001b[0m\u001b[0;34m(\u001b[0m\u001b[0mmessage\u001b[0m\u001b[0;34m)\u001b[0m\u001b[0;34m\u001b[0m\u001b[0m\n\u001b[1;32m   1173\u001b[0m         \u001b[0;32mtry\u001b[0m\u001b[0;34m:\u001b[0m\u001b[0;34m\u001b[0m\u001b[0m\n\u001b[0;32m-> 1174\u001b[0;31m             \u001b[0msock_info\u001b[0m\u001b[0;34m.\u001b[0m\u001b[0msock\u001b[0m\u001b[0;34m.\u001b[0m\u001b[0msendall\u001b[0m\u001b[0;34m(\u001b[0m\u001b[0mdata\u001b[0m\u001b[0;34m)\u001b[0m\u001b[0;34m\u001b[0m\u001b[0m\n\u001b[0m\u001b[1;32m   1175\u001b[0m             \u001b[0;32mreturn\u001b[0m \u001b[0mself\u001b[0m\u001b[0;34m.\u001b[0m\u001b[0m__receive_message_on_socket\u001b[0m\u001b[0;34m(\u001b[0m\u001b[0;36m1\u001b[0m\u001b[0;34m,\u001b[0m \u001b[0mrequest_id\u001b[0m\u001b[0;34m,\u001b[0m \u001b[0msock_info\u001b[0m\u001b[0;34m)\u001b[0m\u001b[0;34m\u001b[0m\u001b[0m\n\u001b[1;32m   1176\u001b[0m         \u001b[0;32mexcept\u001b[0m\u001b[0;34m:\u001b[0m\u001b[0;34m\u001b[0m\u001b[0m\n",
      "\u001b[0;32m/usr/local/Cellar/python/2.7.12/Frameworks/Python.framework/Versions/2.7/lib/python2.7/socket.pyc\u001b[0m in \u001b[0;36mmeth\u001b[0;34m(name, self, *args)\u001b[0m\n\u001b[1;32m    226\u001b[0m \u001b[0;34m\u001b[0m\u001b[0m\n\u001b[1;32m    227\u001b[0m \u001b[0;32mdef\u001b[0m \u001b[0mmeth\u001b[0m\u001b[0;34m(\u001b[0m\u001b[0mname\u001b[0m\u001b[0;34m,\u001b[0m\u001b[0mself\u001b[0m\u001b[0;34m,\u001b[0m\u001b[0;34m*\u001b[0m\u001b[0margs\u001b[0m\u001b[0;34m)\u001b[0m\u001b[0;34m:\u001b[0m\u001b[0;34m\u001b[0m\u001b[0m\n\u001b[0;32m--> 228\u001b[0;31m     \u001b[0;32mreturn\u001b[0m \u001b[0mgetattr\u001b[0m\u001b[0;34m(\u001b[0m\u001b[0mself\u001b[0m\u001b[0;34m.\u001b[0m\u001b[0m_sock\u001b[0m\u001b[0;34m,\u001b[0m\u001b[0mname\u001b[0m\u001b[0;34m)\u001b[0m\u001b[0;34m(\u001b[0m\u001b[0;34m*\u001b[0m\u001b[0margs\u001b[0m\u001b[0;34m)\u001b[0m\u001b[0;34m\u001b[0m\u001b[0m\n\u001b[0m\u001b[1;32m    229\u001b[0m \u001b[0;34m\u001b[0m\u001b[0m\n\u001b[1;32m    230\u001b[0m \u001b[0;32mfor\u001b[0m \u001b[0m_m\u001b[0m \u001b[0;32min\u001b[0m \u001b[0m_socketmethods\u001b[0m\u001b[0;34m:\u001b[0m\u001b[0;34m\u001b[0m\u001b[0m\n",
      "\u001b[0;31mKeyboardInterrupt\u001b[0m: "
     ]
    }
   ],
   "source": [
    "# Main data structure to write to. Every entry is feedback from one person to one handin\n",
    "ds = defaultdict(lambda: defaultdict(list))\n",
    "\n",
    "# Book keeping for normalization\n",
    "handins = defaultdict(list)\n",
    "assignments = defaultdict(list)\n",
    "courses = defaultdict(list)\n",
    "\n",
    "length_of_collection = db['answer'].find({\"numerical_answer\": {\"$exists\": True}}).count()\n",
    "start_date = dateutil.parser.parse('2016-03-30T22:01:37.000Z')\n",
    "\n",
    "# For printing progress\n",
    "increments = np.arange(0, length_of_collection, length_of_collection/10)\n",
    "\n",
    "count_total = 0\n",
    "count_missing_numericalAnswer = 0\n",
    "count_missing_feedback_grade = 0\n",
    "count_no_answer = 0\n",
    "count_too_old = 0\n",
    "count_demo = 0\n",
    "\n",
    "c = -1\n",
    "for t in db['answer'].find({\"numerical_answer\": {\"$exists\": True}}):\n",
    "    \n",
    "    c += 1  # Progress counter\n",
    "    if c in increments:\n",
    "        print str(list(increments).index(c) * 10) + \"%\",\n",
    "        \n",
    "    # Only use data from after march 31. 2016 where constructive score feature was implemented\n",
    "    if t['report_grade'].generation_time < start_date:\n",
    "        count_too_old += 1\n",
    "        continue\n",
    "    \n",
    "    # Question pertaining to answer in loop\n",
    "    question = list(db['question'].find({\"_id\": t[\"question\"]}))[0]\n",
    "    \n",
    "    # Not all questions have numerical answers. Skip the ones that doesn't\n",
    "    if not \"numericalAnswers\" in question:\n",
    "        count_missing_numericalAnswer += 1\n",
    "        continue\n",
    "    \n",
    "    normalized_score = \\\n",
    "        t['numerical_answer'] * 1.0 / \\\n",
    "        max(map(int, question['numericalAnswers'].keys()))\n",
    "    \n",
    "    # Handle incomplete data\n",
    "    try:\n",
    "        report_grade = list(db['report_grade'].find({\"_id\": t['report_grade']}))[0]\n",
    "    except IndexError:\n",
    "        # document doesn't exist in report_grade\n",
    "        count_no_answer += 1\n",
    "        continue\n",
    "        \n",
    "    # Some gradings don't have feedback grades\n",
    "    if not \"feedback_grade\" in report_grade:\n",
    "        count_missing_feedback_grade += 1\n",
    "        feedback_grade = 0\n",
    "    elif report_grade['feedback_grade'] == 0:\n",
    "        count_demo += 1\n",
    "        continue\n",
    "    else:\n",
    "        feedback_grade = report_grade['feedback_grade']\n",
    "    \n",
    "    count_total += 1\n",
    "    \n",
    "    giver_handin = str(report_grade['giver']) + str(report_grade['handin'])\n",
    "    \n",
    "    ds[giver_handin]['normalized_scores'].append(normalized_score)\n",
    "    ds[giver_handin]['feedback_grade'] = feedback_grade\n",
    "    \n",
    "    # For later normalization wrt. different stuff\n",
    "    course = list(db['assignment'].find({\"_id\": report_grade['assignment']}))[0]['course']\n",
    "    \n",
    "    ds[giver_handin]['handin'] = report_grade['handin']\n",
    "    ds[giver_handin]['assignment'] = report_grade['assignment']\n",
    "    ds[giver_handin]['course'] = course\n",
    "    \n",
    "    assignments[report_grade['assignment']].append(normalized_score)\n",
    "    handins[report_grade['handin']].append(normalized_score)\n",
    "    courses[course].append(normalized_score)"
   ]
  },
  {
   "cell_type": "markdown",
   "metadata": {},
   "source": [
    "###  Data report"
   ]
  },
  {
   "cell_type": "code",
   "execution_count": 607,
   "metadata": {
    "ExecuteTime": {
     "end_time": "2016-12-14T14:52:33.963718",
     "start_time": "2016-12-14T14:52:33.958172"
    },
    "collapsed": false
   },
   "outputs": [
    {
     "name": "stdout",
     "output_type": "stream",
     "text": [
      "Entries before march 31. 2016: 0.799822281245\n",
      "Missing numerical_answer: 0.0\n",
      "Missing feedback_grade: 0.757413899169\n",
      "Entries of demo courses: 0.0101358279058\n",
      "Causes IndexError: 0.000527297405501\n"
     ]
    }
   ],
   "source": [
    "print \"Entries before march 31. 2016:\", count_too_old * 1.0 / count_total\n",
    "print \"Missing numerical_answer:\", count_missing_numericalAnswer * 1.0 / count_total\n",
    "print \"Missing feedback_grade:\", count_missing_feedback_grade * 1.0 / count_total\n",
    "print \"Entries of demo courses:\", count_demo * 1.0 / count_total\n",
    "print \"Causes IndexError:\", count_IndexError * 1.0 / count_total"
   ]
  },
  {
   "cell_type": "code",
   "execution_count": 691,
   "metadata": {
    "ExecuteTime": {
     "end_time": "2016-12-14T16:04:20.558878",
     "start_time": "2016-12-14T16:04:19.675949"
    },
    "collapsed": false
   },
   "outputs": [
    {
     "data": {
      "image/png": "[encoded data removed]",
      "text/plain": [
       "<matplotlib.figure.Figure at 0x10d2caa90>"
      ]
     },
     "metadata": {},
     "output_type": "display_data"
    }
   ],
   "source": [
    "hists = defaultdict(list)\n",
    "for _, v in ds.items():\n",
    "    hists[v['feedback_grade']].append(np.mean(v['normalized_scores']))\n",
    "    \n",
    "nbins=10\n",
    "fig, ax = plt.subplots(1, 1, figsize=(10, 4), frameon=False)\n",
    "\n",
    "hists_mean = np.mean([v for h in hists.values() for v in h])\n",
    "\n",
    "means, medians = [], []\n",
    "lq, uq = [], []\n",
    "for v, h in hists.items():\n",
    "    means.append(np.mean(h))\n",
    "    medians.append(np.median(h))\n",
    "    lq.append(sorted(h)[int(len(h)*0.25)])\n",
    "    uq.append(sorted(h)[int(len(h)*0.75)])\n",
    "    bincounts, bins = np.histogram(h, bins=np.linspace(0, 1, 11), normed=True)\n",
    "    for bc, b in zip(bincounts, bins[:-1]):\n",
    "        w = bc/3.0\n",
    "        rect = mpatches.Rectangle([v-w/2, b], w, 1.0/nbins, lw=0)\n",
    "        collection = PatchCollection([rect], color=\"#2c3e50\", alpha=0.2)\n",
    "        ax.add_collection(collection)\n",
    "\n",
    "plt.plot(range(6)+[5.6], medians+[hists_mean + 0.08 + 0.1 * annotation_scale], color=\"#e67e22\", lw=3, ls=\"--\", alpha=0.8)\n",
    "plt.plot(range(6)+[5.6], means+[hists_mean + 0.08 + 0.0 * annotation_scale], color=\"#2980b9\", lw=3, ls=\"-\", alpha=0.8)\n",
    "plt.fill_between(range(6), lq, uq, color=\"#3498db\", alpha=\"0.3\")\n",
    "\n",
    "plt.plot([5, 5.6], np.array(uq[-1:] + [hists_mean + 0.08 + 0.2 * annotation_scale])-0.005, color=\"#3498db\", lw=2, alpha=0.5)\n",
    "plt.plot([5, 5.6], [lq[-1], hists_mean + 0.08 - 0.2 * annotation_scale], color=\"#3498db\", lw=2, alpha=0.5)\n",
    "plt.plot([-0.5, 5.6], [hists_mean, hists_mean], c=\"k\", lw=1, alpha=0.4)\n",
    "\n",
    "# Legend\n",
    "annotation_scale = 0.85\n",
    "rect = mpatches.Rectangle([5.525, hists_mean + 0.03 - 0.2 * annotation_scale], 1.2, 0.45, lw=0)\n",
    "collection = PatchCollection([rect], color=\"#2c3e50\", alpha=0.1)\n",
    "ax.add_collection(collection)\n",
    "\n",
    "plt.annotate(\"Upper quantile\", (5.675, hists_mean + 0.064 + 0.2 * annotation_scale))\n",
    "plt.annotate(\"Score median\", (5.675, hists_mean + 0.064 + 0.1 * annotation_scale))\n",
    "plt.annotate(\"Score mean\", (5.675, hists_mean + 0.064 + 0.0 * annotation_scale))\n",
    "plt.annotate(\"Overall mean\", (5.675, hists_mean + 0.064 - 0.1 * annotation_scale))\n",
    "plt.annotate(\"Lower quantile\", (5.675, hists_mean + 0.064 - 0.2 * annotation_scale))\n",
    "\n",
    "# Axes\n",
    "plt.xlim([-0.5, 6.6])\n",
    "plt.ylim([-0.1, 1.1])\n",
    "plt.xticks([0, 1, 2, 3, 4, 5], [\"None\", 1, 2, 3, 4, 5], fontsize=12)\n",
    "plt.yticks([0, 0.2, 0.4, 0.6, 0.8, 1.0], fontsize=12)\n",
    "\n",
    "plt.xlabel(\"Constructiveness score                         \", fontsize=12)\n",
    "plt.ylabel(\"Handin grade\", fontsize=12)\n",
    "\n",
    "sns.despine(trim=True)\n",
    "plt.title(\"Highly rated feedback is given to highly rated handins                       \", fontsize=13)\n",
    "plt.savefig(\"../figures/revenge0.png\")\n",
    "plt.show()"
   ]
  },
  {
   "cell_type": "markdown",
   "metadata": {},
   "source": [
    "### Effect size"
   ]
  },
  {
   "cell_type": "code",
   "execution_count": 631,
   "metadata": {
    "ExecuteTime": {
     "end_time": "2016-12-14T14:54:40.141262",
     "start_time": "2016-12-14T14:54:40.132053"
    },
    "collapsed": false
   },
   "outputs": [
    {
     "name": "stdout",
     "output_type": "stream",
     "text": [
      "0.0379103525946 0.513218423284 0.213753383695 1.36859282524e-44 0.00267436058123\n",
      "0.045690509041\n"
     ]
    }
   ],
   "source": [
    "def _slope(hists):\n",
    "    x, y = [], []\n",
    "    for v, h in hists.items():\n",
    "        if v > 0:\n",
    "            x.extend([v]*len(h))\n",
    "            y.extend(h)\n",
    "    return stats.linregress(x, y)\n",
    "\n",
    "slope, intercept, r_value, p_value, std_err = _slope(hists)\n",
    "print slope, intercept, r_value, p_value, std_err\n",
    "\n",
    "# shared variance\n",
    "print r_value ** 2"
   ]
  },
  {
   "cell_type": "markdown",
   "metadata": {},
   "source": [
    "The highest feedback quality grades are given to reviews that assign high scores to handins. This could mean that, as suspected, students have a tendency to rate positie feedback as good, but it could also mean that feedback is in fact better when handins are better. It is possible that there is a bias towards putting in more effort to giving better feedback when reviewing a handins that \"deserve it\", as opposed to work where the grader assesses that that the graded student didn't try hard enough."
   ]
  },
  {
   "cell_type": "code",
   "execution_count": 699,
   "metadata": {
    "ExecuteTime": {
     "end_time": "2016-12-14T16:07:36.678125",
     "start_time": "2016-12-14T16:07:35.434716"
    },
    "collapsed": false
   },
   "outputs": [
    {
     "data": {
      "image/png": "[encoded data removed]",
      "text/plain": [
       "<matplotlib.figure.Figure at 0x10edd8990>"
      ]
     },
     "metadata": {},
     "output_type": "display_data"
    }
   ],
   "source": [
    "hists = defaultdict(list)\n",
    "for _, v in ds.items():\n",
    "    hists[v['feedback_grade']].append(\n",
    "        np.mean(v['normalized_scores']) - np.mean(handins[v['handin']])\n",
    "    )\n",
    "\n",
    "bins = np.linspace(-0.6, 0.6, 13)\n",
    "\n",
    "fig, ax = plt.subplots(1, 1, figsize=(8.5, 4), frameon=False)\n",
    "\n",
    "means, medians = [], []\n",
    "lq, uq = [], []\n",
    "for v, h in hists.items():\n",
    "    means.append(np.mean(h))\n",
    "    medians.append(np.median(h))\n",
    "    lq.append(sorted(h)[int(len(h)*0.25)])\n",
    "    uq.append(sorted(h)[int(len(h)*0.75)])\n",
    "    bincounts, bins = np.histogram(h, bins=bins, normed=True)\n",
    "    for bc, b in zip(bincounts, bins[:-1]):\n",
    "        w = bc/4.0\n",
    "        rect = mpatches.Rectangle([v-w/2, b], w, abs(bins[0]-bins[1]), lw=0)\n",
    "        collection = PatchCollection([rect], color=\"#2c3e50\", alpha=0.2)\n",
    "        ax.add_collection(collection)\n",
    "\n",
    "plt.plot(range(6), medians, color=\"#e67e22\", lw=3, ls=\"--\", alpha=0.8)\n",
    "plt.plot(range(6), means, color=\"#2980b9\", lw=3, ls=\"-\", alpha=0.8)\n",
    "plt.fill_between(range(6), lq, uq, color=\"#3498db\", alpha=\"0.3\")\n",
    "\n",
    "plt.plot([-0.5, 5.5], [0, 0], c=\"k\", lw=1, alpha=0.4)\n",
    "\n",
    "plt.xlim([-0.5, 5.5])\n",
    "plt.ylim([-0.7, 0.7])\n",
    "plt.xticks([0, 1, 2, 3, 4, 5], [\"None\", 1, 2, 3, 4, 5], fontsize=12)\n",
    "plt.yticks([-0.6, -0.4, -0.2, 0, 0.2, 0.4, 0.6], fontsize=12)\n",
    "\n",
    "plt.xlabel(\"Constructiveness score\", fontsize=12)\n",
    "plt.ylabel(\"Deviation from handin grade average\", fontsize=12)\n",
    "\n",
    "sns.despine(trim=True)\n",
    "plt.title(\"Deviation from handin average has small influence on perceived constructiveness\", fontsize=13)\n",
    "plt.savefig(\"../figures/revenge1.png\")\n",
    "plt.show()"
   ]
  },
  {
   "cell_type": "markdown",
   "metadata": {},
   "source": [
    "This figure shows that there is very little tendency for students to review feedback as better just because it is very positive relative to the average of all peergradings. This is interesting because it means that it is in fact rarely the case that students avenge negative feedback by rating the feedback quality poorly. This means that it is in fact very likely that students are more careful and tend to give better feedback when grading *good* handins."
   ]
  },
  {
   "cell_type": "markdown",
   "metadata": {},
   "source": [
    "### Effect size"
   ]
  },
  {
   "cell_type": "code",
   "execution_count": 700,
   "metadata": {
    "ExecuteTime": {
     "end_time": "2016-12-14T16:07:45.091393",
     "start_time": "2016-12-14T16:07:45.082160"
    },
    "collapsed": false
   },
   "outputs": [
    {
     "name": "stdout",
     "output_type": "stream",
     "text": [
      "0.0141516282205 -0.0532460173703 0.115771112485 5.27151073969e-14 0.00187415983198\n",
      "0.013402950486\n"
     ]
    }
   ],
   "source": [
    "def _slope(hists):\n",
    "    x, y = [], []\n",
    "    for v, h in hists.items():\n",
    "        if v > 0:\n",
    "            x.extend([v]*len(h))\n",
    "            y.extend(h)\n",
    "    return stats.linregress(x, y)\n",
    "\n",
    "slope, intercept, r_value, p_value, std_err = _slope(hists)\n",
    "print slope, intercept, r_value, p_value, std_err\n",
    "\n",
    "# shared variance\n",
    "print r_value ** 2"
   ]
  },
  {
   "cell_type": "markdown",
   "metadata": {},
   "source": [
    "## Highlevel feedback features vs. constructiveness score"
   ]
  },
  {
   "cell_type": "code",
   "execution_count": 280,
   "metadata": {
    "ExecuteTime": {
     "end_time": "2016-12-14T18:49:32.822714",
     "start_time": "2016-12-14T18:49:32.809325"
    },
    "collapsed": true
   },
   "outputs": [],
   "source": [
    "d_en = enchant.Dict(\"en_US\")\n",
    "\n",
    "course_lang = defaultdict(list)\n",
    "get_lang_returns = []\n",
    "\n",
    "def get_lang(course, sentence):\n",
    "    if course in globals()['course_lang']:\n",
    "        return Counter(globals()['course_lang'][course]).most_common(1)[0][0]\n",
    "    try:\n",
    "        lang = detect(sentence)\n",
    "        globals()['course_lang'][course].append(lang)\n",
    "        return lang\n",
    "    except: #LangDetectException\n",
    "        return None\n",
    "    \n",
    "def typo_rate(course, sentence):\n",
    "    \"\"\"Fraction if words in sentence that are typos.\"\"\"\n",
    "    if get_lang(course, sentence) is not \"en\":\n",
    "        return None\n",
    "    return np.mean([not d_en.check(w) for w in sentence.split()])\n",
    "\n",
    "def afinn_rate(course, sentence):\n",
    "    lang = get_lang(course, sentence)\n",
    "    globals()['get_lang_returns'].append(lang)\n",
    "    if lang not in [\"en\", \"da\"]:\n",
    "        return None\n",
    "    return Afinn(language=lang).score(sentence)"
   ]
  },
  {
   "cell_type": "code",
   "execution_count": 281,
   "metadata": {
    "ExecuteTime": {
     "end_time": "2016-12-14T18:50:25.820716",
     "start_time": "2016-12-14T18:49:33.318437"
    },
    "collapsed": false
   },
   "outputs": [
    {
     "name": "stdout",
     "output_type": "stream",
     "text": [
      "0%"
     ]
    },
    {
     "ename": "KeyboardInterrupt",
     "evalue": "",
     "output_type": "error",
     "traceback": [
      "\u001b[0;31m---------------------------------------------------------------------------\u001b[0m",
      "\u001b[0;31mKeyboardInterrupt\u001b[0m                         Traceback (most recent call last)",
      "\u001b[0;32m<ipython-input-281-543235009db8>\u001b[0m in \u001b[0;36m<module>\u001b[0;34m()\u001b[0m\n\u001b[1;32m     54\u001b[0m     \u001b[0;32melse\u001b[0m\u001b[0;34m:\u001b[0m\u001b[0;34m\u001b[0m\u001b[0m\n\u001b[1;32m     55\u001b[0m         \u001b[0mtext_length\u001b[0m \u001b[0;34m=\u001b[0m \u001b[0mlen\u001b[0m\u001b[0;34m(\u001b[0m\u001b[0manswer\u001b[0m\u001b[0;34m[\u001b[0m\u001b[0;34m'text_answer'\u001b[0m\u001b[0;34m]\u001b[0m\u001b[0;34m)\u001b[0m\u001b[0;34m\u001b[0m\u001b[0m\n\u001b[0;32m---> 56\u001b[0;31m         \u001b[0mtext_valence\u001b[0m \u001b[0;34m=\u001b[0m \u001b[0mafinn_rate\u001b[0m\u001b[0;34m(\u001b[0m\u001b[0mcourse\u001b[0m\u001b[0;34m,\u001b[0m \u001b[0manswer\u001b[0m\u001b[0;34m[\u001b[0m\u001b[0;34m'text_answer'\u001b[0m\u001b[0;34m]\u001b[0m\u001b[0;34m)\u001b[0m\u001b[0;34m\u001b[0m\u001b[0m\n\u001b[0m\u001b[1;32m     57\u001b[0m         \u001b[0mtext_typo_rate\u001b[0m \u001b[0;34m=\u001b[0m \u001b[0mtypo_rate\u001b[0m\u001b[0;34m(\u001b[0m\u001b[0mcourse\u001b[0m\u001b[0;34m,\u001b[0m \u001b[0manswer\u001b[0m\u001b[0;34m[\u001b[0m\u001b[0;34m'text_answer'\u001b[0m\u001b[0;34m]\u001b[0m\u001b[0;34m)\u001b[0m\u001b[0;34m\u001b[0m\u001b[0m\n\u001b[1;32m     58\u001b[0m \u001b[0;34m\u001b[0m\u001b[0m\n",
      "\u001b[0;32m<ipython-input-280-d34cfdabb913>\u001b[0m in \u001b[0;36mafinn_rate\u001b[0;34m(course, sentence)\u001b[0m\n\u001b[1;32m     25\u001b[0m     \u001b[0;32mif\u001b[0m \u001b[0mlang\u001b[0m \u001b[0;32mnot\u001b[0m \u001b[0;32min\u001b[0m \u001b[0;34m[\u001b[0m\u001b[0;34m\"en\"\u001b[0m\u001b[0;34m,\u001b[0m \u001b[0;34m\"da\"\u001b[0m\u001b[0;34m]\u001b[0m\u001b[0;34m:\u001b[0m\u001b[0;34m\u001b[0m\u001b[0m\n\u001b[1;32m     26\u001b[0m         \u001b[0;32mreturn\u001b[0m \u001b[0mNone\u001b[0m\u001b[0;34m\u001b[0m\u001b[0m\n\u001b[0;32m---> 27\u001b[0;31m     \u001b[0;32mreturn\u001b[0m \u001b[0mAfinn\u001b[0m\u001b[0;34m(\u001b[0m\u001b[0mlanguage\u001b[0m\u001b[0;34m=\u001b[0m\u001b[0mlang\u001b[0m\u001b[0;34m)\u001b[0m\u001b[0;34m.\u001b[0m\u001b[0mscore\u001b[0m\u001b[0;34m(\u001b[0m\u001b[0msentence\u001b[0m\u001b[0;34m)\u001b[0m\u001b[0;34m\u001b[0m\u001b[0m\n\u001b[0m",
      "\u001b[0;32m/usr/local/lib/python2.7/site-packages/afinn/afinn.pyc\u001b[0m in \u001b[0;36m__init__\u001b[0;34m(self, language, emoticons, word_boundary)\u001b[0m\n\u001b[1;32m     93\u001b[0m \u001b[0;34m\u001b[0m\u001b[0m\n\u001b[1;32m     94\u001b[0m         \u001b[0;32melse\u001b[0m\u001b[0;34m:\u001b[0m\u001b[0;34m\u001b[0m\u001b[0m\n\u001b[0;32m---> 95\u001b[0;31m             \u001b[0mself\u001b[0m\u001b[0;34m.\u001b[0m\u001b[0msetup_from_file\u001b[0m\u001b[0;34m(\u001b[0m\u001b[0mfull_filename\u001b[0m\u001b[0;34m,\u001b[0m \u001b[0mword_boundary\u001b[0m\u001b[0;34m=\u001b[0m\u001b[0mword_boundary\u001b[0m\u001b[0;34m)\u001b[0m\u001b[0;34m\u001b[0m\u001b[0m\n\u001b[0m\u001b[1;32m     96\u001b[0m \u001b[0;34m\u001b[0m\u001b[0m\n\u001b[1;32m     97\u001b[0m         \u001b[0mself\u001b[0m\u001b[0;34m.\u001b[0m\u001b[0m_word_pattern\u001b[0m \u001b[0;34m=\u001b[0m \u001b[0mre\u001b[0m\u001b[0;34m.\u001b[0m\u001b[0mcompile\u001b[0m\u001b[0;34m(\u001b[0m\u001b[0;34m'\\w+'\u001b[0m\u001b[0;34m,\u001b[0m \u001b[0mflags\u001b[0m\u001b[0;34m=\u001b[0m\u001b[0mre\u001b[0m\u001b[0;34m.\u001b[0m\u001b[0mUNICODE\u001b[0m\u001b[0;34m)\u001b[0m\u001b[0;34m\u001b[0m\u001b[0m\n",
      "\u001b[0;32m/usr/local/lib/python2.7/site-packages/afinn/afinn.pyc\u001b[0m in \u001b[0;36msetup_from_file\u001b[0;34m(self, filename, word_boundary)\u001b[0m\n\u001b[1;32m    158\u001b[0m         \"\"\"\n\u001b[1;32m    159\u001b[0m         \u001b[0mself\u001b[0m\u001b[0;34m.\u001b[0m\u001b[0m_dict\u001b[0m \u001b[0;34m=\u001b[0m \u001b[0mself\u001b[0m\u001b[0;34m.\u001b[0m\u001b[0mread_word_file\u001b[0m\u001b[0;34m(\u001b[0m\u001b[0mfilename\u001b[0m\u001b[0;34m)\u001b[0m\u001b[0;34m\u001b[0m\u001b[0m\n\u001b[0;32m--> 160\u001b[0;31m         \u001b[0mself\u001b[0m\u001b[0;34m.\u001b[0m\u001b[0m_setup_pattern_from_dict\u001b[0m\u001b[0;34m(\u001b[0m\u001b[0mword_boundary\u001b[0m\u001b[0;34m=\u001b[0m\u001b[0mword_boundary\u001b[0m\u001b[0;34m)\u001b[0m\u001b[0;34m\u001b[0m\u001b[0m\n\u001b[0m\u001b[1;32m    161\u001b[0m \u001b[0;34m\u001b[0m\u001b[0m\n\u001b[1;32m    162\u001b[0m     \u001b[0;34m@\u001b[0m\u001b[0mstaticmethod\u001b[0m\u001b[0;34m\u001b[0m\u001b[0m\n",
      "\u001b[0;32m/usr/local/lib/python2.7/site-packages/afinn/afinn.pyc\u001b[0m in \u001b[0;36m_setup_pattern_from_dict\u001b[0;34m(self, word_boundary)\u001b[0m\n\u001b[1;32m    250\u001b[0m         regex = self.regex_from_tokens(\n\u001b[1;32m    251\u001b[0m             \u001b[0mlist\u001b[0m\u001b[0;34m(\u001b[0m\u001b[0mself\u001b[0m\u001b[0;34m.\u001b[0m\u001b[0m_dict\u001b[0m\u001b[0;34m)\u001b[0m\u001b[0;34m,\u001b[0m\u001b[0;34m\u001b[0m\u001b[0m\n\u001b[0;32m--> 252\u001b[0;31m             word_boundary=word_boundary)\n\u001b[0m\u001b[1;32m    253\u001b[0m         \u001b[0mself\u001b[0m\u001b[0;34m.\u001b[0m\u001b[0m_setup_pattern_from_regex\u001b[0m\u001b[0;34m(\u001b[0m\u001b[0mregex\u001b[0m\u001b[0;34m)\u001b[0m\u001b[0;34m\u001b[0m\u001b[0m\n\u001b[1;32m    254\u001b[0m \u001b[0;34m\u001b[0m\u001b[0m\n",
      "\u001b[0;32m/usr/local/lib/python2.7/site-packages/afinn/afinn.pyc\u001b[0m in \u001b[0;36mregex_from_tokens\u001b[0;34m(tokens, word_boundary, capture)\u001b[0m\n\u001b[1;32m    224\u001b[0m \u001b[0;34m\u001b[0m\u001b[0m\n\u001b[1;32m    225\u001b[0m         \u001b[0;31m# Build regular expression\u001b[0m\u001b[0;34m\u001b[0m\u001b[0;34m\u001b[0m\u001b[0m\n\u001b[0;32m--> 226\u001b[0;31m         \u001b[0mregex\u001b[0m \u001b[0;34m=\u001b[0m \u001b[0;34m'(?:'\u001b[0m \u001b[0;34m+\u001b[0m \u001b[0;34m\"|\"\u001b[0m\u001b[0;34m.\u001b[0m\u001b[0mjoin\u001b[0m\u001b[0;34m(\u001b[0m\u001b[0mtokens_\u001b[0m\u001b[0;34m)\u001b[0m \u001b[0;34m+\u001b[0m \u001b[0;34m')'\u001b[0m\u001b[0;34m\u001b[0m\u001b[0m\n\u001b[0m\u001b[1;32m    227\u001b[0m         \u001b[0;32mif\u001b[0m \u001b[0mword_boundary\u001b[0m\u001b[0;34m:\u001b[0m\u001b[0;34m\u001b[0m\u001b[0m\n\u001b[1;32m    228\u001b[0m             \u001b[0mregex\u001b[0m \u001b[0;34m=\u001b[0m \u001b[0;34mr\"\\b\"\u001b[0m \u001b[0;34m+\u001b[0m \u001b[0mregex\u001b[0m \u001b[0;34m+\u001b[0m \u001b[0;34mr\"\\b\"\u001b[0m\u001b[0;34m\u001b[0m\u001b[0m\n",
      "\u001b[0;31mKeyboardInterrupt\u001b[0m: "
     ]
    }
   ],
   "source": [
    "# Main data structure to write to. Every entry is feedback from one person to one handin\n",
    "ds = defaultdict(lambda: defaultdict(list))\n",
    "\n",
    "# Book keeping for normalization\n",
    "handins = defaultdict(list)\n",
    "assignments = defaultdict(list)\n",
    "courses = defaultdict(list)\n",
    "\n",
    "start_date = dateutil.parser.parse('2016-03-30T22:01:37.000Z')\n",
    "\n",
    "# For printing progress\n",
    "length_of_collection = db['answer'].find({\"_id\": {\"$gt\": ObjectId(\"56fc4c600000000000000000\")}}).count()\n",
    "increments = np.arange(0, length_of_collection, length_of_collection/10)\n",
    "\n",
    "breaker = []\n",
    "\n",
    "c = -1\n",
    "for answer in db['answer'].find({\"_id\": {\"$gt\": ObjectId(\"56fc4c600000000000000000\")}}):\n",
    "\n",
    "    # Progress counter\n",
    "    c += 1\n",
    "    if c in increments:\n",
    "        print str(list(increments).index(c) * 10) + \"%\",\n",
    "\n",
    "    # Get question, course and report_grade\n",
    "    try:\n",
    "        brokeit=\"question\"\n",
    "        question = list(\n",
    "            db['question'].find({\"_id\": answer[\"question\"]})\n",
    "        )[0]\n",
    "        brokeit=\"report_grade\"\n",
    "        report_grade = list(\n",
    "                db['report_grade'].find({\"_id\": answer['report_grade']})\n",
    "        )[0]\n",
    "        brokeit=\"course\"\n",
    "        course = list(\n",
    "            db['assignment'].find({\"_id\": report_grade['assignment']})\n",
    "        )[0]['course']\n",
    "    except IndexError:\n",
    "        # something is wrong with this course\n",
    "        breaker.append(brokeit)\n",
    "        continue\n",
    "\n",
    "    # Compute normalized numerical score. If rubric doesn't have one, set it \n",
    "    # to None, and handle it down the road.\n",
    "    if not \"numericalAnswers\" in question \\\n",
    "    or question[\"numericalAnswers\"] is None \\\n",
    "    or not 'numerical_answer' in answer \\\n",
    "    or answer['numerical_answer'] is None:\n",
    "        normalized_score = None\n",
    "    else:\n",
    "        normalized_score = \\\n",
    "            answer['numerical_answer'] * 1.0 / \\\n",
    "            max(map(int, question['numericalAnswers'].keys()))\n",
    "\n",
    "    # Extract text features\n",
    "    if not 'text_answer' in answer \\\n",
    "    or answer['text_answer'] in [None, '']:\n",
    "        pass\n",
    "    else:\n",
    "        text_length = len(answer['text_answer'])\n",
    "        text_valence = afinn_rate(course, answer['text_answer'])\n",
    "        text_typo_rate = typo_rate(course, answer['text_answer'])\n",
    "\n",
    "\n",
    "    # Set constructive score to zero when it was not given\n",
    "    if not \"feedback_grade\" in report_grade:\n",
    "        feedback_grade = 0\n",
    "    elif report_grade['feedback_grade'] == 0:\n",
    "        count_demo += 1\n",
    "        continue\n",
    "    else:\n",
    "        feedback_grade = report_grade['feedback_grade']\n",
    "\n",
    "    # Feedback case Id\n",
    "    giver_handin = str(report_grade['giver']) + str(report_grade['handin'])\n",
    "\n",
    "    # Fill in to main datastructure\n",
    "    if normalized_score is not None:\n",
    "        ds[giver_handin]['normalized_scores'].append(normalized_score)\n",
    "    ds[giver_handin]['feedback_grade'] = feedback_grade\n",
    "\n",
    "    # For later normalization wrt. different stuff\n",
    "    ds[giver_handin]['handin'] = report_grade['handin']\n",
    "    ds[giver_handin]['assignment'] = report_grade['assignment']\n",
    "    ds[giver_handin]['course'] = course \n",
    "\n",
    "    if normalized_score is not None:\n",
    "        assignments[report_grade['assignment']].append(normalized_score)\n",
    "        handins[report_grade['handin']].append(normalized_score)\n",
    "        courses[course].append(normalized_score)\n",
    "\n",
    "    if text_length is not None:\n",
    "        ds[giver_handin]['text_length'].append(text_length)\n",
    "    if text_valence is not None:\n",
    "        ds[giver_handin]['text_valence'].append(text_valence)\n",
    "    if text_typo_rate is not None:\n",
    "        ds[giver_handin]['text_typo_rate'].append(text_typo_rate)"
   ]
  },
  {
   "cell_type": "code",
   "execution_count": null,
   "metadata": {
    "collapsed": true
   },
   "outputs": [],
   "source": []
  }
 ],
 "metadata": {
  "kernelspec": {
   "display_name": "Python 2",
   "language": "python",
   "name": "python2"
  },
  "language_info": {
   "codemirror_mode": {
    "name": "ipython",
    "version": 2
   },
   "file_extension": ".py",
   "mimetype": "text/x-python",
   "name": "python",
   "nbconvert_exporter": "python",
   "pygments_lexer": "ipython2",
   "version": "2.7.12"
  },
  "nav_menu": {},
  "toc": {
   "navigate_menu": true,
   "number_sections": true,
   "sideBar": true,
   "threshold": 6,
   "toc_cell": false,
   "toc_section_display": "block",
   "toc_window_display": true
  },
  "toc_position": {
   "height": "1149px",
   "left": "0px",
   "right": "1887.01px",
   "top": "105px",
   "width": "213px"
  }
 },
 "nbformat": 4,
 "nbformat_minor": 1
}
